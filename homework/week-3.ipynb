{
  "nbformat": 4,
  "nbformat_minor": 0,
  "metadata": {
    "colab": {
      "provenance": [],
      "include_colab_link": true
    },
    "kernelspec": {
      "name": "python3",
      "display_name": "Python 3"
    },
    "language_info": {
      "name": "python"
    }
  },
  "cells": [
    {
      "cell_type": "markdown",
      "metadata": {
        "id": "view-in-github",
        "colab_type": "text"
      },
      "source": [
        "<a href=\"https://colab.research.google.com/github/elsaspoor/first/blob/main/homework/week-3.ipynb\" target=\"_parent\"><img src=\"https://colab.research.google.com/assets/colab-badge.svg\" alt=\"Open In Colab\"/></a>"
      ]
    },
    {
      "cell_type": "markdown",
      "source": [
        "# Homework - Week 3\n",
        "\n",
        "Complete the following blocks as specified in the directions. Run each cell to return the desired output. Save your notebook back to your GitHub repository and submit the GitHub URL for your notebook for grading."
      ],
      "metadata": {
        "id": "xJ6ZWHKXW4qY"
      }
    },
    {
      "cell_type": "markdown",
      "source": [
        "## 1. Variables\n",
        "\n",
        "Declare and populate three variables below. Be sure your code outputs each variable:\n",
        "\n",
        "1. Containing a string\n",
        "2. Containing a boolean\n",
        "3. Containing an integer"
      ],
      "metadata": {
        "id": "j0mCENI3XK2i"
      }
    },
    {
      "cell_type": "code",
      "execution_count": 33,
      "metadata": {
        "id": "mdX0VBQgW1-9",
        "outputId": "3ae13dab-ea55-47f8-845a-110e6900e2c2",
        "colab": {
          "base_uri": "https://localhost:8080/"
        }
      },
      "outputs": [
        {
          "output_type": "stream",
          "name": "stdout",
          "text": [
            "How are you todayI am good\n",
            "True\n"
          ]
        },
        {
          "output_type": "execute_result",
          "data": {
            "text/plain": [
              "225"
            ]
          },
          "metadata": {},
          "execution_count": 33
        }
      ],
      "source": [
        "string1 = \"How are you today\"\n",
        "string2 = \"I am good\"\n",
        "x = 15\n",
        "y = 225\n",
        "print(string1 + string2)\n",
        "print(bool(x))\n",
        "int('225')"
      ]
    },
    {
      "cell_type": "markdown",
      "source": [
        "## 2. String Manipulation\n",
        "\n",
        "Take the following string and, using python commands, show how to fulfill the requested task. Be sure your code outputs the requested data.\n",
        "\n",
        "String: \"Go Hoos, Beat JMU!\"\n",
        "\n",
        "1. Write a command that extracts the first 8 characters of the string.\n",
        "2. Write a command that extracts the last 4 characters of the string."
      ],
      "metadata": {
        "id": "atxtPF2-XXiW"
      }
    },
    {
      "cell_type": "code",
      "source": [
        "string1 = 'Go Hoos,'\n",
        "string2 = 'JMU!'"
      ],
      "metadata": {
        "id": "2szfLXZcYC_7"
      },
      "execution_count": 18,
      "outputs": []
    },
    {
      "cell_type": "markdown",
      "source": [
        "# 3. Concatenation\n",
        "\n",
        "1. Declare any two string variables and concatenate them.\n",
        "2. Declare a string parameter and concatenate another hard-coded phrase with it."
      ],
      "metadata": {
        "id": "GeXcT_9sYEdx"
      }
    },
    {
      "cell_type": "code",
      "source": [
        "string1 = \"Today is \"\n",
        "string2 = \"a great day\"\n",
        "string3 = \"I am going to have a great day\"\n",
        "string1 + string2, string1 + string2 + string3"
      ],
      "metadata": {
        "id": "v3fvvKP4ZUvJ",
        "outputId": "1b9202cd-97be-4807-ee82-2da02ecbf626",
        "colab": {
          "base_uri": "https://localhost:8080/"
        }
      },
      "execution_count": 31,
      "outputs": [
        {
          "output_type": "execute_result",
          "data": {
            "text/plain": [
              "('Today is a great day', 'Today is a great dayI am going to have a great day')"
            ]
          },
          "metadata": {},
          "execution_count": 31
        }
      ]
    },
    {
      "cell_type": "markdown",
      "source": [
        "# 4. Math Operations\n",
        "\n",
        "Using the following numeric variables, write Python code that fulfills the requested operations. Be sure your code outputs the correct results.\n",
        "\n",
        "```python\n",
        "var1 = 9\n",
        "var2 = 12\n",
        "var3 = 48\n",
        "var4 = 4\n",
        "```\n",
        "\n",
        "1. Divide var3 by var2\n",
        "2. Multiply var1 by var4\n",
        "3. Write a Python expression that gives a result of `16`."
      ],
      "metadata": {
        "id": "DkVtHJBoYW34"
      }
    },
    {
      "cell_type": "code",
      "source": [
        "var1 = 9\n",
        "var2 = 12\n",
        "var3 = 48\n",
        "var4 = 4\n",
        "\n",
        "var3 // var2, var1*var4, var4*var4"
      ],
      "metadata": {
        "id": "db5UdbrVZSiJ",
        "outputId": "b52af140-0d32-4ebd-8d61-f88d902cba29",
        "colab": {
          "base_uri": "https://localhost:8080/"
        }
      },
      "execution_count": 30,
      "outputs": [
        {
          "output_type": "execute_result",
          "data": {
            "text/plain": [
              "(4, 36, 16)"
            ]
          },
          "metadata": {},
          "execution_count": 30
        }
      ]
    }
  ]
}