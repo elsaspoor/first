{
  "nbformat": 4,
  "nbformat_minor": 0,
  "metadata": {
    "colab": {
      "provenance": [],
      "include_colab_link": true
    },
    "kernelspec": {
      "name": "ir",
      "display_name": "R"
    },
    "language_info": {
      "name": "R"
    }
  },
  "cells": [
    {
      "cell_type": "markdown",
      "metadata": {
        "id": "view-in-github",
        "colab_type": "text"
      },
      "source": [
        "<a href=\"https://colab.research.google.com/github/elsaspoor/first/blob/main/homework/week-13.ipynb\" target=\"_parent\"><img src=\"https://colab.research.google.com/assets/colab-badge.svg\" alt=\"Open In Colab\"/></a>"
      ]
    },
    {
      "cell_type": "markdown",
      "source": [
        "# Homework - Week 13\n",
        "\n",
        "Complete the following blocks as specified in the directions. Run each cell to return the desired output. Save your notebook back to your GitHub repository and submit the GitHub URL to your notebook for review."
      ],
      "metadata": {
        "id": "sZruw3XQogej"
      }
    },
    {
      "cell_type": "markdown",
      "source": [
        "## 1. Change Runtime to R (1 pt)\n",
        "\n",
        "Change the runtime of this notebook to R. You can verify that you are running R by displaying the current version you are running. Run the cell below and show the output."
      ],
      "metadata": {
        "id": "KmpG99aAokL9"
      }
    },
    {
      "cell_type": "code",
      "execution_count": 1,
      "metadata": {
        "id": "k03Z1NKAoZrW",
        "colab": {
          "base_uri": "https://localhost:8080/",
          "height": 272
        },
        "outputId": "fd1b8c0a-ff0c-4b2c-cce1-4942da8ce426"
      },
      "outputs": [
        {
          "output_type": "display_data",
          "data": {
            "text/plain": [
              "               _                           \n",
              "platform       x86_64-pc-linux-gnu         \n",
              "arch           x86_64                      \n",
              "os             linux-gnu                   \n",
              "system         x86_64, linux-gnu           \n",
              "status                                     \n",
              "major          4                           \n",
              "minor          3.2                         \n",
              "year           2023                        \n",
              "month          10                          \n",
              "day            31                          \n",
              "svn rev        85441                       \n",
              "language       R                           \n",
              "version.string R version 4.3.2 (2023-10-31)\n",
              "nickname       Eye Holes                   "
            ]
          },
          "metadata": {}
        }
      ],
      "source": [
        "version"
      ]
    },
    {
      "cell_type": "markdown",
      "source": [
        "## 2. Create Vectors (2 pts)\n",
        "\n",
        "Create two vectors in the cells below, according to the prompts given."
      ],
      "metadata": {
        "id": "lkaofBQypx1X"
      }
    },
    {
      "cell_type": "code",
      "source": [
        "# create a vector with 7 integer values. Assign it to a variable named \"my_integers\"\n",
        "my_integers <- c(1, 2, 3, 4, 5, 6, 7)"
      ],
      "metadata": {
        "id": "1fjq5bkEp6Zv"
      },
      "execution_count": 2,
      "outputs": []
    },
    {
      "cell_type": "code",
      "source": [
        "\n",
        "# Using the variables given above, assign three new variables the following calculated values:\n",
        "#\n",
        "# 1. Your first variable should be assigned the calculated value of var2 divided by var1.\n",
        "# 2. Your second variable should be assigned the calculated value of var2 cubed times var3.\n",
        "# 3. Your third variable should be assigned the calculated value of var4 integer divided by var3.\n",
        "#\n",
        "# Next, create an array populated by your three variables. Assign the array to a new variable named \"my_calculated_values\"\n",
        "\n",
        "\n",
        "var1 = 8\n",
        "var2 = 4\n",
        "var3 = 12\n",
        "var4 = 25\n",
        "\n",
        "a <- var1/var2\n",
        "b <- (var2^3)*var3\n",
        "c <- var4/var3\n",
        "\n",
        "my_calculated_values <- c(a, b, c)\n",
        "my_calculated_values"
      ],
      "metadata": {
        "id": "f3IFD-T6p6Rd",
        "colab": {
          "base_uri": "https://localhost:8080/",
          "height": 34
        },
        "outputId": "578110ed-0695-4ff6-8474-bbd0d2e3b95d"
      },
      "execution_count": 1,
      "outputs": [
        {
          "output_type": "display_data",
          "data": {
            "text/html": [
              "<style>\n",
              ".list-inline {list-style: none; margin:0; padding: 0}\n",
              ".list-inline>li {display: inline-block}\n",
              ".list-inline>li:not(:last-child)::after {content: \"\\00b7\"; padding: 0 .5ex}\n",
              "</style>\n",
              "<ol class=list-inline><li>2</li><li>768</li><li>2.08333333333333</li></ol>\n"
            ],
            "text/markdown": "1. 2\n2. 768\n3. 2.08333333333333\n\n\n",
            "text/latex": "\\begin{enumerate*}\n\\item 2\n\\item 768\n\\item 2.08333333333333\n\\end{enumerate*}\n",
            "text/plain": [
              "[1]   2.000000 768.000000   2.083333"
            ]
          },
          "metadata": {}
        }
      ]
    },
    {
      "cell_type": "markdown",
      "source": [
        "## 3. Vector Indexes (3 pts)"
      ],
      "metadata": {
        "id": "F6Rx0GIGrpOB"
      }
    },
    {
      "cell_type": "markdown",
      "source": [
        "In the cell below, create a vector that starts with the integer 4, that increments by counts of 3 all the way to 28.\n",
        "\n",
        "Assign the vector to a variable name."
      ],
      "metadata": {
        "id": "IDLyOjOJsFCX"
      }
    },
    {
      "cell_type": "code",
      "source": [
        "x <- seq(4, 28, by=3)\n",
        "x"
      ],
      "metadata": {
        "id": "0D5Ia-BPsoPZ",
        "colab": {
          "base_uri": "https://localhost:8080/",
          "height": 34
        },
        "outputId": "cd9c3942-a805-46b5-8aac-cc90926c3d32"
      },
      "execution_count": 7,
      "outputs": [
        {
          "output_type": "display_data",
          "data": {
            "text/html": [
              "<style>\n",
              ".list-inline {list-style: none; margin:0; padding: 0}\n",
              ".list-inline>li {display: inline-block}\n",
              ".list-inline>li:not(:last-child)::after {content: \"\\00b7\"; padding: 0 .5ex}\n",
              "</style>\n",
              "<ol class=list-inline><li>4</li><li>7</li><li>10</li><li>13</li><li>16</li><li>19</li><li>22</li><li>25</li><li>28</li></ol>\n"
            ],
            "text/markdown": "1. 4\n2. 7\n3. 10\n4. 13\n5. 16\n6. 19\n7. 22\n8. 25\n9. 28\n\n\n",
            "text/latex": "\\begin{enumerate*}\n\\item 4\n\\item 7\n\\item 10\n\\item 13\n\\item 16\n\\item 19\n\\item 22\n\\item 25\n\\item 28\n\\end{enumerate*}\n",
            "text/plain": [
              "[1]  4  7 10 13 16 19 22 25 28"
            ]
          },
          "metadata": {}
        }
      ]
    },
    {
      "cell_type": "markdown",
      "source": [
        "Next, show how to display this vector with the 3 index removed."
      ],
      "metadata": {
        "id": "RxFRiRMvtfXI"
      }
    },
    {
      "cell_type": "code",
      "source": [
        "x <- x[! x %in% x[3]]\n",
        "x"
      ],
      "metadata": {
        "id": "MBg7V1LztQlv",
        "colab": {
          "base_uri": "https://localhost:8080/",
          "height": 34
        },
        "outputId": "1243f6cc-25c0-4b58-9a01-7415875c58ec"
      },
      "execution_count": 8,
      "outputs": [
        {
          "output_type": "display_data",
          "data": {
            "text/html": [
              "<style>\n",
              ".list-inline {list-style: none; margin:0; padding: 0}\n",
              ".list-inline>li {display: inline-block}\n",
              ".list-inline>li:not(:last-child)::after {content: \"\\00b7\"; padding: 0 .5ex}\n",
              "</style>\n",
              "<ol class=list-inline><li>4</li><li>7</li><li>13</li><li>16</li><li>19</li><li>22</li><li>25</li><li>28</li></ol>\n"
            ],
            "text/markdown": "1. 4\n2. 7\n3. 13\n4. 16\n5. 19\n6. 22\n7. 25\n8. 28\n\n\n",
            "text/latex": "\\begin{enumerate*}\n\\item 4\n\\item 7\n\\item 13\n\\item 16\n\\item 19\n\\item 22\n\\item 25\n\\item 28\n\\end{enumerate*}\n",
            "text/plain": [
              "[1]  4  7 13 16 19 22 25 28"
            ]
          },
          "metadata": {}
        }
      ]
    },
    {
      "cell_type": "markdown",
      "source": [
        "Finally, show how to delete the 4th, 5th, and 7th indexes from the vector and update the vector so they are forever removed from the vector.\n",
        "\n",
        "Hint: there is a fairly simple way to do this in one line, such that you don't have to run a separate command for each removal."
      ],
      "metadata": {
        "id": "Rmci-rVCtq-C"
      }
    },
    {
      "cell_type": "code",
      "source": [
        "x <- x[! x %in% c(x[4],x[5],x[7])]\n",
        "x"
      ],
      "metadata": {
        "id": "y1k0NHNruFX2",
        "colab": {
          "base_uri": "https://localhost:8080/",
          "height": 34
        },
        "outputId": "22301b43-3bcd-4a1e-9c59-b3ca041e1d50"
      },
      "execution_count": 10,
      "outputs": [
        {
          "output_type": "display_data",
          "data": {
            "text/html": [
              "<style>\n",
              ".list-inline {list-style: none; margin:0; padding: 0}\n",
              ".list-inline>li {display: inline-block}\n",
              ".list-inline>li:not(:last-child)::after {content: \"\\00b7\"; padding: 0 .5ex}\n",
              "</style>\n",
              "<ol class=list-inline><li>4</li><li>7</li><li>13</li><li>22</li><li>28</li></ol>\n"
            ],
            "text/markdown": "1. 4\n2. 7\n3. 13\n4. 22\n5. 28\n\n\n",
            "text/latex": "\\begin{enumerate*}\n\\item 4\n\\item 7\n\\item 13\n\\item 22\n\\item 28\n\\end{enumerate*}\n",
            "text/plain": [
              "[1]  4  7 13 22 28"
            ]
          },
          "metadata": {}
        }
      ]
    },
    {
      "cell_type": "markdown",
      "source": [
        "## 4. Create a Data Frame (3 pts)\n",
        "\n",
        "In the cell below create a data frame with 10 observations (rows) and 5 variables (columns) each. This data frame will describe some of your favorite musical performers. You can use real or fictitious data to populate your data frame.\n",
        "\n",
        "Variables:\n",
        "  - `artist` - Artist or band name\n",
        "  - `category` - Rock, Pop, Country, Hip-hop, Jazz, Classical, Soul, Other. (Try to distribute your selections here)\n",
        "  - `size` - (number of members, 1-?)\n",
        "  - `start` - Debut year of artist.\n",
        "  - `grammy` - Grammmy winner? `TRUE` | `FALSE`\n",
        "\n",
        "First create vectors for each variable populated with your own performer data. Then create a data frame from these vectors (be sure to assign column names too) and assign it to a named variable such as `df`."
      ],
      "metadata": {
        "id": "-2ZaFcCCv3o8"
      }
    },
    {
      "cell_type": "code",
      "source": [
        "artist <- c(\"Taylor Swift\", \"Jordan Davis\", \"Carrie Underwood\",\n",
        "           \"Zac Brown Band\", \"Sam Hunt\", \"Thomas Rhett\",\n",
        "           \"Morgan Wallen\", \"Russel Dickerson\", \"Dylan Scott\", \"Blake Shelton\")\n",
        "category <- c(\"Country\", \"Country\", \"Country\", \"Rock\", \"Country\", \"Rock\", \"Country\", \"Hip-hop\", \"Rock\", \"Country\")\n",
        "size <- c(1, 1, 1, 5, 1, 1, 1, 1, 1, 1)\n",
        "start <- c(2000, 2001, 2001, 1999, 2005, 2004, 2007, 2008, 2004, 2000)\n",
        "grammy <- c(TRUE, FALSE, TRUE, FALSE, FALSE, FALSE, FALSE, TRUE, FALSE, TRUE)\n",
        "\n",
        "df <- data.frame(Artist = artist, Category = category, Size = size, Start = start, Grammy = grammy)\n",
        "df"
      ],
      "metadata": {
        "id": "V4nBsdVsyauQ",
        "colab": {
          "base_uri": "https://localhost:8080/",
          "height": 407
        },
        "outputId": "c7e59ef6-81da-4ebf-92d7-3c9c1f7a4824"
      },
      "execution_count": 17,
      "outputs": [
        {
          "output_type": "display_data",
          "data": {
            "text/html": [
              "<table class=\"dataframe\">\n",
              "<caption>A data.frame: 10 × 5</caption>\n",
              "<thead>\n",
              "\t<tr><th scope=col>Artist</th><th scope=col>Category</th><th scope=col>Size</th><th scope=col>Start</th><th scope=col>Grammy</th></tr>\n",
              "\t<tr><th scope=col>&lt;chr&gt;</th><th scope=col>&lt;chr&gt;</th><th scope=col>&lt;dbl&gt;</th><th scope=col>&lt;dbl&gt;</th><th scope=col>&lt;lgl&gt;</th></tr>\n",
              "</thead>\n",
              "<tbody>\n",
              "\t<tr><td>Taylor Swift    </td><td>Country</td><td>1</td><td>2000</td><td> TRUE</td></tr>\n",
              "\t<tr><td>Jordan Davis    </td><td>Country</td><td>1</td><td>2001</td><td>FALSE</td></tr>\n",
              "\t<tr><td>Carrie Underwood</td><td>Country</td><td>1</td><td>2001</td><td> TRUE</td></tr>\n",
              "\t<tr><td>Zac Brown Band  </td><td>Rock   </td><td>5</td><td>1999</td><td>FALSE</td></tr>\n",
              "\t<tr><td>Sam Hunt        </td><td>Country</td><td>1</td><td>2005</td><td>FALSE</td></tr>\n",
              "\t<tr><td>Thomas Rhett    </td><td>Rock   </td><td>1</td><td>2004</td><td>FALSE</td></tr>\n",
              "\t<tr><td>Morgan Wallen   </td><td>Country</td><td>1</td><td>2007</td><td>FALSE</td></tr>\n",
              "\t<tr><td>Russel Dickerson</td><td>Hip-hop</td><td>1</td><td>2008</td><td> TRUE</td></tr>\n",
              "\t<tr><td>Dylan Scott     </td><td>Rock   </td><td>1</td><td>2004</td><td>FALSE</td></tr>\n",
              "\t<tr><td>Blake Shelton   </td><td>Country</td><td>1</td><td>2000</td><td> TRUE</td></tr>\n",
              "</tbody>\n",
              "</table>\n"
            ],
            "text/markdown": "\nA data.frame: 10 × 5\n\n| Artist &lt;chr&gt; | Category &lt;chr&gt; | Size &lt;dbl&gt; | Start &lt;dbl&gt; | Grammy &lt;lgl&gt; |\n|---|---|---|---|---|\n| Taylor Swift     | Country | 1 | 2000 |  TRUE |\n| Jordan Davis     | Country | 1 | 2001 | FALSE |\n| Carrie Underwood | Country | 1 | 2001 |  TRUE |\n| Zac Brown Band   | Rock    | 5 | 1999 | FALSE |\n| Sam Hunt         | Country | 1 | 2005 | FALSE |\n| Thomas Rhett     | Rock    | 1 | 2004 | FALSE |\n| Morgan Wallen    | Country | 1 | 2007 | FALSE |\n| Russel Dickerson | Hip-hop | 1 | 2008 |  TRUE |\n| Dylan Scott      | Rock    | 1 | 2004 | FALSE |\n| Blake Shelton    | Country | 1 | 2000 |  TRUE |\n\n",
            "text/latex": "A data.frame: 10 × 5\n\\begin{tabular}{lllll}\n Artist & Category & Size & Start & Grammy\\\\\n <chr> & <chr> & <dbl> & <dbl> & <lgl>\\\\\n\\hline\n\t Taylor Swift     & Country & 1 & 2000 &  TRUE\\\\\n\t Jordan Davis     & Country & 1 & 2001 & FALSE\\\\\n\t Carrie Underwood & Country & 1 & 2001 &  TRUE\\\\\n\t Zac Brown Band   & Rock    & 5 & 1999 & FALSE\\\\\n\t Sam Hunt         & Country & 1 & 2005 & FALSE\\\\\n\t Thomas Rhett     & Rock    & 1 & 2004 & FALSE\\\\\n\t Morgan Wallen    & Country & 1 & 2007 & FALSE\\\\\n\t Russel Dickerson & Hip-hop & 1 & 2008 &  TRUE\\\\\n\t Dylan Scott      & Rock    & 1 & 2004 & FALSE\\\\\n\t Blake Shelton    & Country & 1 & 2000 &  TRUE\\\\\n\\end{tabular}\n",
            "text/plain": [
              "   Artist           Category Size Start Grammy\n",
              "1  Taylor Swift     Country  1    2000   TRUE \n",
              "2  Jordan Davis     Country  1    2001  FALSE \n",
              "3  Carrie Underwood Country  1    2001   TRUE \n",
              "4  Zac Brown Band   Rock     5    1999  FALSE \n",
              "5  Sam Hunt         Country  1    2005  FALSE \n",
              "6  Thomas Rhett     Rock     1    2004  FALSE \n",
              "7  Morgan Wallen    Country  1    2007  FALSE \n",
              "8  Russel Dickerson Hip-hop  1    2008   TRUE \n",
              "9  Dylan Scott      Rock     1    2004  FALSE \n",
              "10 Blake Shelton    Country  1    2000   TRUE "
            ]
          },
          "metadata": {}
        }
      ]
    },
    {
      "cell_type": "markdown",
      "source": [
        "## 5. Filter/Query a Data Frame (2 pts)\n",
        "\n",
        "Use the data frame you created above and show how to perform the following queries."
      ],
      "metadata": {
        "id": "nG5m-FIRydNU"
      }
    },
    {
      "cell_type": "code",
      "source": [
        "# Display the first 3 records and only the `artist`, `category` and `grammy` columns for each.\n",
        "df[1:3, c('Artist', 'Category', 'Grammy')]"
      ],
      "metadata": {
        "id": "OlmbfFi6zSgR",
        "colab": {
          "base_uri": "https://localhost:8080/",
          "height": 190
        },
        "outputId": "8af73a69-c481-48e9-b074-898eb931c0b5"
      },
      "execution_count": 12,
      "outputs": [
        {
          "output_type": "display_data",
          "data": {
            "text/html": [
              "<table class=\"dataframe\">\n",
              "<caption>A data.frame: 3 × 3</caption>\n",
              "<thead>\n",
              "\t<tr><th></th><th scope=col>Artist</th><th scope=col>Category</th><th scope=col>Grammy</th></tr>\n",
              "\t<tr><th></th><th scope=col>&lt;chr&gt;</th><th scope=col>&lt;chr&gt;</th><th scope=col>&lt;lgl&gt;</th></tr>\n",
              "</thead>\n",
              "<tbody>\n",
              "\t<tr><th scope=row>1</th><td>Taylor Swift    </td><td>Country</td><td> TRUE</td></tr>\n",
              "\t<tr><th scope=row>2</th><td>Jordan Davis    </td><td>Country</td><td>FALSE</td></tr>\n",
              "\t<tr><th scope=row>3</th><td>Carrie Underwood</td><td>Country</td><td> TRUE</td></tr>\n",
              "</tbody>\n",
              "</table>\n"
            ],
            "text/markdown": "\nA data.frame: 3 × 3\n\n| <!--/--> | Artist &lt;chr&gt; | Category &lt;chr&gt; | Grammy &lt;lgl&gt; |\n|---|---|---|---|\n| 1 | Taylor Swift     | Country |  TRUE |\n| 2 | Jordan Davis     | Country | FALSE |\n| 3 | Carrie Underwood | Country |  TRUE |\n\n",
            "text/latex": "A data.frame: 3 × 3\n\\begin{tabular}{r|lll}\n  & Artist & Category & Grammy\\\\\n  & <chr> & <chr> & <lgl>\\\\\n\\hline\n\t1 & Taylor Swift     & Country &  TRUE\\\\\n\t2 & Jordan Davis     & Country & FALSE\\\\\n\t3 & Carrie Underwood & Country &  TRUE\\\\\n\\end{tabular}\n",
            "text/plain": [
              "  Artist           Category Grammy\n",
              "1 Taylor Swift     Country   TRUE \n",
              "2 Jordan Davis     Country  FALSE \n",
              "3 Carrie Underwood Country   TRUE "
            ]
          },
          "metadata": {}
        }
      ]
    },
    {
      "cell_type": "code",
      "source": [
        "# Display the records for just one musical category, such as only Rock bands or only Hip-hop bands.\n",
        "df_rock<- subset(df, Category == \"Rock\")\n",
        "df_rock"
      ],
      "metadata": {
        "id": "-l_kpWSzzlhG",
        "colab": {
          "base_uri": "https://localhost:8080/",
          "height": 190
        },
        "outputId": "e41f2171-d602-4a09-e9cf-9833cc0e0e57"
      },
      "execution_count": 19,
      "outputs": [
        {
          "output_type": "display_data",
          "data": {
            "text/html": [
              "<table class=\"dataframe\">\n",
              "<caption>A data.frame: 3 × 5</caption>\n",
              "<thead>\n",
              "\t<tr><th></th><th scope=col>Artist</th><th scope=col>Category</th><th scope=col>Size</th><th scope=col>Start</th><th scope=col>Grammy</th></tr>\n",
              "\t<tr><th></th><th scope=col>&lt;chr&gt;</th><th scope=col>&lt;chr&gt;</th><th scope=col>&lt;dbl&gt;</th><th scope=col>&lt;dbl&gt;</th><th scope=col>&lt;lgl&gt;</th></tr>\n",
              "</thead>\n",
              "<tbody>\n",
              "\t<tr><th scope=row>4</th><td>Zac Brown Band</td><td>Rock</td><td>5</td><td>1999</td><td>FALSE</td></tr>\n",
              "\t<tr><th scope=row>6</th><td>Thomas Rhett  </td><td>Rock</td><td>1</td><td>2004</td><td>FALSE</td></tr>\n",
              "\t<tr><th scope=row>9</th><td>Dylan Scott   </td><td>Rock</td><td>1</td><td>2004</td><td>FALSE</td></tr>\n",
              "</tbody>\n",
              "</table>\n"
            ],
            "text/markdown": "\nA data.frame: 3 × 5\n\n| <!--/--> | Artist &lt;chr&gt; | Category &lt;chr&gt; | Size &lt;dbl&gt; | Start &lt;dbl&gt; | Grammy &lt;lgl&gt; |\n|---|---|---|---|---|---|\n| 4 | Zac Brown Band | Rock | 5 | 1999 | FALSE |\n| 6 | Thomas Rhett   | Rock | 1 | 2004 | FALSE |\n| 9 | Dylan Scott    | Rock | 1 | 2004 | FALSE |\n\n",
            "text/latex": "A data.frame: 3 × 5\n\\begin{tabular}{r|lllll}\n  & Artist & Category & Size & Start & Grammy\\\\\n  & <chr> & <chr> & <dbl> & <dbl> & <lgl>\\\\\n\\hline\n\t4 & Zac Brown Band & Rock & 5 & 1999 & FALSE\\\\\n\t6 & Thomas Rhett   & Rock & 1 & 2004 & FALSE\\\\\n\t9 & Dylan Scott    & Rock & 1 & 2004 & FALSE\\\\\n\\end{tabular}\n",
            "text/plain": [
              "  Artist         Category Size Start Grammy\n",
              "4 Zac Brown Band Rock     5    1999  FALSE \n",
              "6 Thomas Rhett   Rock     1    2004  FALSE \n",
              "9 Dylan Scott    Rock     1    2004  FALSE "
            ]
          },
          "metadata": {}
        }
      ]
    },
    {
      "cell_type": "markdown",
      "source": [
        "*italicized text*## Query a Data Frame using `tidyverse` (4 pts)\n",
        "\n",
        "1. Show how to load the library.\n",
        "2. Show how to glimpse basic features of the `starwars` data table.\n",
        "3. Create a query using tidyverse that retrieves the following data:\n",
        "    - Selects only these columns: `name`, `height`, `sex`, `species`.\n",
        "    - Filters for all species that are NOT Human.\n",
        "    - Arranges the resulting data in order by name.\n",
        "\n",
        "Show your output in a data frame."
      ],
      "metadata": {
        "id": "L-xnszjS0Byy"
      }
    },
    {
      "cell_type": "code",
      "source": [
        "install.packages(\"tidyverse\", dependencies=TRUE)\n"
      ],
      "metadata": {
        "id": "yTMLzrxS0F4u",
        "colab": {
          "base_uri": "https://localhost:8080/"
        },
        "outputId": "e10ec5dd-baa5-42be-cfb6-305e2de67f26"
      },
      "execution_count": 21,
      "outputs": [
        {
          "output_type": "stream",
          "name": "stderr",
          "text": [
            "Installing package into ‘/usr/local/lib/R/site-library’\n",
            "(as ‘lib’ is unspecified)\n",
            "\n",
            "also installing the dependencies ‘lazyeval’, ‘rex’, ‘Rcpp’, ‘covr’, ‘feather’, ‘mockr’\n",
            "\n",
            "\n"
          ]
        }
      ]
    },
    {
      "cell_type": "code",
      "source": [
        "library(tidyverse)\n",
        "library(rwars)"
      ],
      "metadata": {
        "colab": {
          "base_uri": "https://localhost:8080/",
          "height": 140
        },
        "id": "5ATONJjjPPSY",
        "outputId": "885cf1f9-6e22-4a44-92df-e873fb7a99ab"
      },
      "execution_count": 25,
      "outputs": [
        {
          "output_type": "error",
          "ename": "ERROR",
          "evalue": "ignored",
          "traceback": [
            "Error in library(rwars): there is no package called ‘rwars’\nTraceback:\n",
            "1. library(rwars)"
          ]
        }
      ]
    }
  ]
}