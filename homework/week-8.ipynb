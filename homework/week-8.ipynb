{
  "nbformat": 4,
  "nbformat_minor": 0,
  "metadata": {
    "colab": {
      "provenance": [],
      "include_colab_link": true
    },
    "kernelspec": {
      "name": "python3",
      "display_name": "Python 3"
    },
    "language_info": {
      "name": "python"
    }
  },
  "cells": [
    {
      "cell_type": "markdown",
      "metadata": {
        "id": "view-in-github",
        "colab_type": "text"
      },
      "source": [
        "<a href=\"https://colab.research.google.com/github/elsaspoor/first/blob/main/homework/week-8.ipynb\" target=\"_parent\"><img src=\"https://colab.research.google.com/assets/colab-badge.svg\" alt=\"Open In Colab\"/></a>"
      ]
    },
    {
      "cell_type": "markdown",
      "source": [
        "## While-Loops\n",
        "\n",
        "Perform the following steps in code:\n",
        "1. Define a variable and populate it with `0`.\n",
        "2. Create a while statement that evaluates whether that variable is less than or equal to `20`.\n",
        "3. Within the while loop evaluate if the variable value is even or odd.\n",
        "4. Within the while loop, if the variable value is even, print it. If not, do not print it.\n",
        "5. Within the while loop, finally add `1` to the variable before it repeats."
      ],
      "metadata": {
        "id": "But1V5T5qWJG"
      }
    },
    {
      "cell_type": "code",
      "source": [
        "# code here\n",
        "mycode = 0\n",
        "while mycode >= 20:\n",
        "  if (mycode) == 0:\n",
        "print(\"even\")\n",
        "else:\n",
        "  print(odd)\n",
        "print(mycode + 1)"
      ],
      "metadata": {
        "id": "GyQTkbqUq6SQ",
        "outputId": "ef410d63-438c-42c6-fe50-3470ed77028c",
        "colab": {
          "base_uri": "https://localhost:8080/",
          "height": 140
        }
      },
      "execution_count": 5,
      "outputs": [
        {
          "output_type": "error",
          "ename": "IndentationError",
          "evalue": "ignored",
          "traceback": [
            "\u001b[0;36m  File \u001b[0;32m\"<ipython-input-5-8e6f51f431ca>\"\u001b[0;36m, line \u001b[0;32m5\u001b[0m\n\u001b[0;31m    print(\"even\")\u001b[0m\n\u001b[0m                 ^\u001b[0m\n\u001b[0;31mIndentationError\u001b[0m\u001b[0;31m:\u001b[0m expected an indented block after 'if' statement on line 4\n"
          ]
        }
      ]
    },
    {
      "cell_type": "markdown",
      "source": [
        "## For-Loops with Lists"
      ],
      "metadata": {
        "id": "ghRg1MRwoXvD"
      }
    },
    {
      "cell_type": "code",
      "source": [
        "# Use this list in the exercises below\n",
        "\n",
        "mylist = [9, 15, 23, 4, 92, 47, 33, 17, -4, 18, 38, -242]"
      ],
      "metadata": {
        "id": "G0PaWRBuoZdQ"
      },
      "execution_count": 6,
      "outputs": []
    },
    {
      "cell_type": "code",
      "source": [
        "# Write a command to print out all the values of this list\n",
        "# EXCEPT for any negative values. Omit them from the printing.\n",
        "mylist = [9, 15, 23, 4, 92, 47, 33, 17, -4, 18, 38, -242]\n",
        "for list in mylist:\n",
        "  if list = '-4', '-242':\n",
        "    break\n",
        "  print(list)"
      ],
      "metadata": {
        "id": "hzoe9vw3phWs",
        "outputId": "d4f5fbbb-11c2-4cce-9ee5-59d19522ca07",
        "colab": {
          "base_uri": "https://localhost:8080/",
          "height": 140
        }
      },
      "execution_count": 13,
      "outputs": [
        {
          "output_type": "error",
          "ename": "SyntaxError",
          "evalue": "ignored",
          "traceback": [
            "\u001b[0;36m  File \u001b[0;32m\"<ipython-input-13-87dab2193219>\"\u001b[0;36m, line \u001b[0;32m5\u001b[0m\n\u001b[0;31m    if list = '-4', '-242':\u001b[0m\n\u001b[0m       ^\u001b[0m\n\u001b[0;31mSyntaxError\u001b[0m\u001b[0;31m:\u001b[0m invalid syntax. Maybe you meant '==' or ':=' instead of '='?\n"
          ]
        }
      ]
    },
    {
      "cell_type": "code",
      "source": [
        "# Repeat the command from above, but this time get\n",
        "# the absolute value of any negative values in the list\n",
        "# and print those with the other items.\n",
        "mylist = [9, 15, 23, 4, 92, 47, 33, 17, -4, 18, 38, -242]\n",
        "for list in mylist:\n",
        "  if list = '-4', '-242':\n",
        "    print(4, 242)\n",
        "    else:\n",
        "      print(\"no negatives\")\n"
      ],
      "metadata": {
        "id": "IE1-XLNrpnvy",
        "outputId": "5c89807f-220c-470c-b65b-ddec162f0e9d",
        "colab": {
          "base_uri": "https://localhost:8080/",
          "height": 140
        }
      },
      "execution_count": 14,
      "outputs": [
        {
          "output_type": "error",
          "ename": "SyntaxError",
          "evalue": "ignored",
          "traceback": [
            "\u001b[0;36m  File \u001b[0;32m\"<ipython-input-14-2e2a9e4b9695>\"\u001b[0;36m, line \u001b[0;32m6\u001b[0m\n\u001b[0;31m    if list = '-4', '-242':\u001b[0m\n\u001b[0m       ^\u001b[0m\n\u001b[0;31mSyntaxError\u001b[0m\u001b[0;31m:\u001b[0m invalid syntax. Maybe you meant '==' or ':=' instead of '='?\n"
          ]
        }
      ]
    },
    {
      "cell_type": "code",
      "source": [
        "# Similar to above, write a command to print out items in\n",
        "# the list but omit any values greater than 20 and less than 40.\n",
        "mylist = [9, 15, 23, 4, 92, 47, 33, 17, -4, 18, 38, -242]\n",
        "for list in my list\n",
        "if list = mylist > 20, mylist < 40"
      ],
      "metadata": {
        "id": "rC38pZowp4LX",
        "outputId": "0138158d-aab2-48fc-b32f-55792bf9b3a8",
        "colab": {
          "base_uri": "https://localhost:8080/",
          "height": 140
        }
      },
      "execution_count": 15,
      "outputs": [
        {
          "output_type": "error",
          "ename": "SyntaxError",
          "evalue": "ignored",
          "traceback": [
            "\u001b[0;36m  File \u001b[0;32m\"<ipython-input-15-b87ac4c8309b>\"\u001b[0;36m, line \u001b[0;32m4\u001b[0m\n\u001b[0;31m    for list in my list\u001b[0m\n\u001b[0m                   ^\u001b[0m\n\u001b[0;31mSyntaxError\u001b[0m\u001b[0;31m:\u001b[0m invalid syntax\n"
          ]
        }
      ]
    },
    {
      "cell_type": "markdown",
      "source": [
        "## For-Loops with Dictionaries"
      ],
      "metadata": {
        "id": "BD1Wg4oSSEdz"
      }
    },
    {
      "cell_type": "code",
      "source": [
        "capitals = {'United States':'Washington DC',\n",
        "          'Italy':'Rome',\n",
        "          'England':'London',\n",
        "          'Thailand':'Bangkok',\n",
        "          'Brazil':'Brasilia'}"
      ],
      "metadata": {
        "id": "9DpHR_WzSGA8"
      },
      "execution_count": 16,
      "outputs": []
    },
    {
      "cell_type": "code",
      "source": [
        "# Write a command to print out all the keys of this dict\n",
        "capitals.keys()"
      ],
      "metadata": {
        "id": "Iy_i6RE3S1ta",
        "outputId": "bf673d42-c128-47a9-ca30-a472e46aaeb6",
        "colab": {
          "base_uri": "https://localhost:8080/"
        }
      },
      "execution_count": 17,
      "outputs": [
        {
          "output_type": "execute_result",
          "data": {
            "text/plain": [
              "dict_keys(['United States', 'Italy', 'England', 'Thailand', 'Brazil'])"
            ]
          },
          "metadata": {},
          "execution_count": 17
        }
      ]
    },
    {
      "cell_type": "code",
      "source": [
        "# Write a command to print out all the values of this dict\n",
        "capitals.values()"
      ],
      "metadata": {
        "id": "eYNBRQAsS95v",
        "outputId": "5b78d537-1bb2-43f6-888b-ceee9093ff9b",
        "colab": {
          "base_uri": "https://localhost:8080/"
        }
      },
      "execution_count": 20,
      "outputs": [
        {
          "output_type": "execute_result",
          "data": {
            "text/plain": [
              "dict_values(['Washington DC', 'Rome', 'London', 'Bangkok', 'Brasilia'])"
            ]
          },
          "metadata": {},
          "execution_count": 20
        }
      ]
    },
    {
      "cell_type": "code",
      "source": [
        "# Write a command to print all the keys and values for this dict\n",
        "\n",
        "for key, value in capitals.items():\n",
        "  print(key)\n",
        "  print(value)"
      ],
      "metadata": {
        "id": "b1KYFdDxSH7X",
        "outputId": "048d008a-c141-4664-ef7c-101b304ae3ce",
        "colab": {
          "base_uri": "https://localhost:8080/"
        }
      },
      "execution_count": 21,
      "outputs": [
        {
          "output_type": "stream",
          "name": "stdout",
          "text": [
            "United States\n",
            "Washington DC\n",
            "Italy\n",
            "Rome\n",
            "England\n",
            "London\n",
            "Thailand\n",
            "Bangkok\n",
            "Brazil\n",
            "Brasilia\n"
          ]
        }
      ]
    },
    {
      "cell_type": "code",
      "source": [
        "# Write a command to print only the first three values and NOTHING more.\n",
        "\n",
        "capitals.values(3)"
      ],
      "metadata": {
        "id": "pun10Fq2oonQ",
        "outputId": "09a80f20-355c-4242-c953-de5e276fd9ae",
        "colab": {
          "base_uri": "https://localhost:8080/",
          "height": 208
        }
      },
      "execution_count": 23,
      "outputs": [
        {
          "output_type": "error",
          "ename": "TypeError",
          "evalue": "ignored",
          "traceback": [
            "\u001b[0;31m---------------------------------------------------------------------------\u001b[0m",
            "\u001b[0;31mTypeError\u001b[0m                                 Traceback (most recent call last)",
            "\u001b[0;32m<ipython-input-23-45293017056b>\u001b[0m in \u001b[0;36m<cell line: 3>\u001b[0;34m()\u001b[0m\n\u001b[1;32m      1\u001b[0m \u001b[0;31m# Write a command to print only the first three values and NOTHING more.\u001b[0m\u001b[0;34m\u001b[0m\u001b[0;34m\u001b[0m\u001b[0m\n\u001b[1;32m      2\u001b[0m \u001b[0;34m\u001b[0m\u001b[0m\n\u001b[0;32m----> 3\u001b[0;31m \u001b[0mcapitals\u001b[0m\u001b[0;34m.\u001b[0m\u001b[0mvalues\u001b[0m\u001b[0;34m(\u001b[0m\u001b[0;36m3\u001b[0m\u001b[0;34m)\u001b[0m\u001b[0;34m\u001b[0m\u001b[0;34m\u001b[0m\u001b[0m\n\u001b[0m",
            "\u001b[0;31mTypeError\u001b[0m: dict.values() takes no arguments (1 given)"
          ]
        }
      ]
    }
  ]
}